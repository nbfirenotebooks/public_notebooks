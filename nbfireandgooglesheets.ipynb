{
 "cells": [
  {
   "cell_type": "markdown",
   "id": "4eab71b1",
   "metadata": {},
   "source": [
    "This simple notebook sets out how you can use NBFire to regularly append data to a google sheet.  Each time this notebook runs a new timestamp is created and appended to Google Sheet data.  We then read that data back into the Notebook using Pandas.  You will need to set up your gsheet account as described in https://ploomber.io/blog/gsheets/.  The next steps are\n",
    "\n",
    "Upload your notebook to NBFire.\\\n",
    "Enter the json creds as the parameter values for creds.\\\n",
    "Schedule your notebook to run regularly.\\\n",
    "Check your output notebooks and Google Sheet to see the timestamps being generated.\\\n",
    "\n",
    "You can easily adapt this notebook to pull data from different sources, use Google Sheets to store that data and then append it during the next scheduled run\n"
   ]
  },
  {
   "cell_type": "code",
   "execution_count": null,
   "id": "c76d4603",
   "metadata": {},
   "outputs": [],
   "source": [
    "!pip install gspread\n",
    "!pip install random\n",
    "!pip install datetime\n",
    "!pip install pandas\n",
    "!pip install json"
   ]
  },
  {
   "cell_type": "code",
   "execution_count": null,
   "id": "18c7f987",
   "metadata": {},
   "outputs": [],
   "source": [
    "import gspread\n",
    "import random\n",
    "from datetime import date\n",
    "import json"
   ]
  },
  {
   "cell_type": "markdown",
   "id": "009eab9c",
   "metadata": {},
   "source": [
    "To generate creds follow this guide https://ploomber.io/blog/gsheets/"
   ]
  },
  {
   "cell_type": "code",
   "execution_count": null,
   "id": "6b634960",
   "metadata": {
    "tags": [
     "parameters"
    ]
   },
   "outputs": [],
   "source": [
    "creds=\"\""
   ]
  },
  {
   "cell_type": "code",
   "execution_count": null,
   "id": "80d1185e",
   "metadata": {},
   "outputs": [],
   "source": [
    "credentials = json.loads(creds)"
   ]
  },
  {
   "cell_type": "code",
   "execution_count": null,
   "id": "e8edebd8",
   "metadata": {},
   "outputs": [],
   "source": [
    "sa = gspread.service_account_from_dict(credentials)"
   ]
  },
  {
   "cell_type": "code",
   "execution_count": null,
   "id": "ca2e459c",
   "metadata": {},
   "outputs": [],
   "source": [
    "sheet = sa.open(\"Test\")\n",
    "work_sheet = sheet.worksheet(\"Sheet1\")"
   ]
  },
  {
   "cell_type": "code",
   "execution_count": null,
   "id": "6f743cf2",
   "metadata": {},
   "outputs": [],
   "source": [
    "import pandas as pd\n",
    "\n",
    "df = pd.DataFrame(work_sheet.get_all_records())"
   ]
  },
  {
   "cell_type": "code",
   "execution_count": null,
   "id": "a6dd333c",
   "metadata": {},
   "outputs": [],
   "source": [
    "from datetime import datetime\n",
    "\n",
    "now = str(datetime.now())\n",
    "value=[now]"
   ]
  },
  {
   "cell_type": "code",
   "execution_count": null,
   "id": "2eb21c02",
   "metadata": {},
   "outputs": [],
   "source": [
    "work_sheet.append_row(value)"
   ]
  },
  {
   "cell_type": "code",
   "execution_count": null,
   "id": "0fa228dc",
   "metadata": {},
   "outputs": [],
   "source": [
    "import pandas as pd\n",
    "\n",
    "df = pd.DataFrame(work_sheet.get_all_records())\n",
    "df"
   ]
  },
  {
   "cell_type": "code",
   "execution_count": null,
   "id": "501301c3",
   "metadata": {},
   "outputs": [],
   "source": []
  }
 ],
 "metadata": {
  "celltoolbar": "Tags",
  "kernelspec": {
   "display_name": "Python 3 (ipykernel)",
   "language": "python",
   "name": "python3"
  },
  "language_info": {
   "codemirror_mode": {
    "name": "ipython",
    "version": 3
   },
   "file_extension": ".py",
   "mimetype": "text/x-python",
   "name": "python",
   "nbconvert_exporter": "python",
   "pygments_lexer": "ipython3",
   "version": "3.10.6"
  }
 },
 "nbformat": 4,
 "nbformat_minor": 5
}
