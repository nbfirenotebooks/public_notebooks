{
 "cells": [
  {
   "cell_type": "code",
   "execution_count": null,
   "id": "e2d953b6",
   "metadata": {},
   "outputs": [],
   "source": [
    "!pip install datetime\n",
    "!pip install requests\n",
    "!pip install gspread"
   ]
  },
  {
   "cell_type": "code",
   "execution_count": null,
   "id": "04d62a74",
   "metadata": {},
   "outputs": [],
   "source": [
    "from datetime import datetime\n",
    "import random\n",
    "import requests\n",
    "import json\n",
    "import gspread"
   ]
  },
  {
   "cell_type": "code",
   "execution_count": null,
   "id": "be2e96eb",
   "metadata": {
    "tags": [
     "parameters"
    ]
   },
   "outputs": [],
   "source": [
    "# To make it easier to update and share this notebook we will be entering sensitive keys are runtime using nbfire.  T\n",
    "# This cell is a placeholder for these values.  This is why the cell has a 'parameters' tag added.  For more\n",
    "#information please read https://papermill.readthedocs.io/en/latest/usage-parameterize.html\n",
    "credentials = \"\""
   ]
  },
  {
   "cell_type": "code",
   "execution_count": null,
   "id": "52775d50",
   "metadata": {},
   "outputs": [],
   "source": [
    "# We need to handle both Google API credentials added as a string entered as a parameter on NBFire and as a dict\n",
    "# entered directly in the cell above\n",
    "if isinstance(credentials, dict):\n",
    "    sa = gspread.service_account_from_dict(credentials)\n",
    "elif isinstance(credentials, str):\n",
    "    creds = json.loads(credentials)\n",
    "    sa = gspread.service_account_from_dict(creds)\n"
   ]
  },
  {
   "cell_type": "code",
   "execution_count": null,
   "id": "b982ca71",
   "metadata": {},
   "outputs": [],
   "source": [
    "#We open the Google Sheet via the ID in the URL and load in the worksheet we want to work with\n",
    "sheet = sa.open_by_key('enter your google sheet URL ID here')\n",
    "work_sheet = sheet.worksheet(\"Sheet1\")"
   ]
  },
  {
   "cell_type": "code",
   "execution_count": null,
   "id": "712871fc",
   "metadata": {},
   "outputs": [],
   "source": [
    "#Now we simply generate our random number and today's date.  We create a new_entry object to be added to the\n",
    "#worksheet.  We then append the new_entry to the worksheet as a new row\n",
    "random_number = random.randint(1,99999)\n",
    "now = datetime.now()\n",
    "today = now.strftime('%d-%m-%Y')\n",
    "new_entry = [today, random_number]\n",
    "print(new_entry)"
   ]
  },
  {
   "cell_type": "code",
   "execution_count": null,
   "id": "e4cbbd52",
   "metadata": {
    "scrolled": true
   },
   "outputs": [],
   "source": [
    "#Now we can add the \"new entry data to our Google Sheet\"\n",
    "work_sheet.append_row(new_entry)"
   ]
  }
 ],
 "metadata": {
  "celltoolbar": "Tags",
  "kernelspec": {
   "display_name": "Python 3 (ipykernel)",
   "language": "python",
   "name": "python3"
  },
  "language_info": {
   "codemirror_mode": {
    "name": "ipython",
    "version": 3
   },
   "file_extension": ".py",
   "mimetype": "text/x-python",
   "name": "python",
   "nbconvert_exporter": "python",
   "pygments_lexer": "ipython3",
   "version": "3.10.6"
  }
 },
 "nbformat": 4,
 "nbformat_minor": 5
}
