{
 "cells": [
  {
   "cell_type": "markdown",
   "id": "cf595a82",
   "metadata": {},
   "source": [
    "###  Simple financial services API call with data saved to Google Sheets.  \n",
    "This notebooks calls the Polygon API and gets basic stock information.  You can then upload the notebook to https://www.nbfire.io/ and run it every night on a schedule to automate data collection.\n",
    "You will need a basic subscription at https://polygon.io with an API key.  Enter the key as a parameter at runtime\n",
    "To set up google sheets please follow https://ploomber.io/blog/gsheets/.  Again, enter the Google Cloud credentials at runtime"
   ]
  },
  {
   "cell_type": "code",
   "execution_count": 92,
   "id": "806631a8",
   "metadata": {},
   "outputs": [
    {
     "name": "stdout",
     "output_type": "stream",
     "text": [
      "Requirement already satisfied: requests in /opt/homebrew/lib/python3.10/site-packages (2.31.0)\n",
      "Requirement already satisfied: charset-normalizer<4,>=2 in /opt/homebrew/lib/python3.10/site-packages (from requests) (3.1.0)\n",
      "Requirement already satisfied: idna<4,>=2.5 in /opt/homebrew/lib/python3.10/site-packages (from requests) (3.4)\n",
      "Requirement already satisfied: urllib3<3,>=1.21.1 in /opt/homebrew/lib/python3.10/site-packages (from requests) (1.26.16)\n",
      "Requirement already satisfied: certifi>=2017.4.17 in /opt/homebrew/lib/python3.10/site-packages (from requests) (2023.5.7)\n",
      "Requirement already satisfied: gspread in /opt/homebrew/lib/python3.10/site-packages (6.0.2)\n",
      "Requirement already satisfied: google-auth>=1.12.0 in /opt/homebrew/lib/python3.10/site-packages (from gspread) (2.19.0)\n",
      "Requirement already satisfied: google-auth-oauthlib>=0.4.1 in /opt/homebrew/lib/python3.10/site-packages (from gspread) (1.0.0)\n",
      "Requirement already satisfied: StrEnum==0.4.15 in /opt/homebrew/lib/python3.10/site-packages (from gspread) (0.4.15)\n",
      "Requirement already satisfied: cachetools<6.0,>=2.0.0 in /opt/homebrew/lib/python3.10/site-packages (from google-auth>=1.12.0->gspread) (5.3.1)\n",
      "Requirement already satisfied: pyasn1-modules>=0.2.1 in /opt/homebrew/lib/python3.10/site-packages (from google-auth>=1.12.0->gspread) (0.3.0)\n",
      "Requirement already satisfied: rsa<5,>=3.1.4 in /opt/homebrew/lib/python3.10/site-packages (from google-auth>=1.12.0->gspread) (4.9)\n",
      "Requirement already satisfied: six>=1.9.0 in /opt/homebrew/lib/python3.10/site-packages (from google-auth>=1.12.0->gspread) (1.16.0)\n",
      "Requirement already satisfied: urllib3<2.0 in /opt/homebrew/lib/python3.10/site-packages (from google-auth>=1.12.0->gspread) (1.26.16)\n",
      "Requirement already satisfied: requests-oauthlib>=0.7.0 in /opt/homebrew/lib/python3.10/site-packages (from google-auth-oauthlib>=0.4.1->gspread) (1.3.1)\n",
      "Requirement already satisfied: pyasn1<0.6.0,>=0.4.6 in /opt/homebrew/lib/python3.10/site-packages (from pyasn1-modules>=0.2.1->google-auth>=1.12.0->gspread) (0.5.0)\n",
      "Requirement already satisfied: oauthlib>=3.0.0 in /opt/homebrew/lib/python3.10/site-packages (from requests-oauthlib>=0.7.0->google-auth-oauthlib>=0.4.1->gspread) (3.2.2)\n",
      "Requirement already satisfied: requests>=2.0.0 in /opt/homebrew/lib/python3.10/site-packages (from requests-oauthlib>=0.7.0->google-auth-oauthlib>=0.4.1->gspread) (2.31.0)\n",
      "Requirement already satisfied: charset-normalizer<4,>=2 in /opt/homebrew/lib/python3.10/site-packages (from requests>=2.0.0->requests-oauthlib>=0.7.0->google-auth-oauthlib>=0.4.1->gspread) (3.1.0)\n",
      "Requirement already satisfied: idna<4,>=2.5 in /opt/homebrew/lib/python3.10/site-packages (from requests>=2.0.0->requests-oauthlib>=0.7.0->google-auth-oauthlib>=0.4.1->gspread) (3.4)\n",
      "Requirement already satisfied: certifi>=2017.4.17 in /opt/homebrew/lib/python3.10/site-packages (from requests>=2.0.0->requests-oauthlib>=0.7.0->google-auth-oauthlib>=0.4.1->gspread) (2023.5.7)\n",
      "Requirement already satisfied: pandas in /opt/homebrew/lib/python3.10/site-packages (1.5.1)\n",
      "Requirement already satisfied: python-dateutil>=2.8.1 in /opt/homebrew/lib/python3.10/site-packages (from pandas) (2.8.2)\n",
      "Requirement already satisfied: pytz>=2020.1 in /opt/homebrew/lib/python3.10/site-packages (from pandas) (2022.5)\n",
      "Requirement already satisfied: numpy>=1.21.0 in /opt/homebrew/lib/python3.10/site-packages (from pandas) (1.23.2)\n",
      "Requirement already satisfied: six>=1.5 in /opt/homebrew/lib/python3.10/site-packages (from python-dateutil>=2.8.1->pandas) (1.16.0)\n",
      "Requirement already satisfied: datetime in /opt/homebrew/lib/python3.10/site-packages (5.4)\n",
      "Requirement already satisfied: zope.interface in /opt/homebrew/lib/python3.10/site-packages (from datetime) (6.2)\n",
      "Requirement already satisfied: pytz in /opt/homebrew/lib/python3.10/site-packages (from datetime) (2022.5)\n",
      "Requirement already satisfied: setuptools in /opt/homebrew/lib/python3.10/site-packages (from zope.interface->datetime) (63.4.3)\n"
     ]
    }
   ],
   "source": [
    "# We have included pip installation of the packages needed to run this notebook because https://www.nbfire.io/ is a \n",
    "# containerised environment\n",
    "!pip install requests\n",
    "!pip install gspread\n",
    "!pip install pandas\n",
    "!pip install datetime"
   ]
  },
  {
   "cell_type": "code",
   "execution_count": 93,
   "id": "847178a9",
   "metadata": {},
   "outputs": [],
   "source": [
    "import requests\n",
    "import json\n",
    "import gspread\n",
    "import pandas\n",
    "from datetime import datetime"
   ]
  },
  {
   "cell_type": "code",
   "execution_count": 94,
   "id": "4871838d",
   "metadata": {
    "tags": [
     "parameters"
    ]
   },
   "outputs": [],
   "source": [
    "# To make it easier to update and share this notebook we will be entering sensitive keys are runtime using nbfire.  T\n",
    "# This cell is a placeholder for these values.  This is why the cell has a 'parameters' tag added\n",
    "credentials = \"\"\n",
    "API_Key = \"\""
   ]
  },
  {
   "cell_type": "code",
   "execution_count": null,
   "id": "d7e02d9e",
   "metadata": {},
   "outputs": [],
   "source": [
    "creds = json.loads(credentials)"
   ]
  },
  {
   "cell_type": "code",
   "execution_count": 95,
   "id": "c7448cc4",
   "metadata": {},
   "outputs": [],
   "source": [
    "sa = gspread.service_account_from_dict(creds)"
   ]
  },
  {
   "cell_type": "code",
   "execution_count": 96,
   "id": "935f15c8",
   "metadata": {},
   "outputs": [],
   "source": [
    "sheet = sa.open(\"Apple Stock Information\")\n",
    "work_sheet = sheet.worksheet(\"Sheet1\")"
   ]
  },
  {
   "cell_type": "code",
   "execution_count": 97,
   "id": "60f65c68",
   "metadata": {},
   "outputs": [],
   "source": [
    "import pandas as pd\n",
    "\n",
    "df = pd.DataFrame(work_sheet.get_all_records())\n"
   ]
  },
  {
   "cell_type": "code",
   "execution_count": 98,
   "id": "f5977215",
   "metadata": {},
   "outputs": [],
   "source": [
    "url = \"https://api.polygon.io/v2/aggs/ticker/AAPL/prev?adjusted=true&apiKey=\" + API_Key\n",
    "x = requests.get(url) \n",
    "data = x.json()\n",
    "results = data['results'][0]               \n",
    "opening = results['o']\n",
    "closing = results['c']\n",
    "volume = results['v']\n",
    "now = str(datetime.now())\n",
    " "
   ]
  },
  {
   "cell_type": "code",
   "execution_count": 99,
   "id": "ff3fdecb",
   "metadata": {},
   "outputs": [
    {
     "data": {
      "text/plain": [
       "{'spreadsheetId': '1ajjUclpihO8KT_6LyCqgmwq0Qhx_VwE6BxDbqXVzrO0',\n",
       " 'tableRange': 'Sheet1!A1:D4',\n",
       " 'updates': {'spreadsheetId': '1ajjUclpihO8KT_6LyCqgmwq0Qhx_VwE6BxDbqXVzrO0',\n",
       "  'updatedRange': 'Sheet1!A5:D5',\n",
       "  'updatedRows': 1,\n",
       "  'updatedColumns': 4,\n",
       "  'updatedCells': 4}}"
      ]
     },
     "execution_count": 99,
     "metadata": {},
     "output_type": "execute_result"
    }
   ],
   "source": [
    "new_entry =[now, opening, closing, volume ]\n",
    "work_sheet.append_row(new_entry)"
   ]
  }
 ],
 "metadata": {
  "celltoolbar": "Tags",
  "kernelspec": {
   "display_name": "Python 3 (ipykernel)",
   "language": "python",
   "name": "python3"
  },
  "language_info": {
   "codemirror_mode": {
    "name": "ipython",
    "version": 3
   },
   "file_extension": ".py",
   "mimetype": "text/x-python",
   "name": "python",
   "nbconvert_exporter": "python",
   "pygments_lexer": "ipython3",
   "version": "3.10.6"
  }
 },
 "nbformat": 4,
 "nbformat_minor": 5
}
