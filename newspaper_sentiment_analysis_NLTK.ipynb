{
 "cells": [
  {
   "cell_type": "code",
   "execution_count": null,
   "id": "0a394deb",
   "metadata": {},
   "outputs": [],
   "source": [
    "!pip install beautifulsoup4 \n",
    "!pip install matplotlib\n",
    "!pip install requests\n",
    "!pip install nltk\n",
    "!pip install pandas\n",
    "!pip install numpy as np\n"
   ]
  },
  {
   "cell_type": "code",
   "execution_count": null,
   "id": "03c0ebd5",
   "metadata": {},
   "outputs": [],
   "source": [
    "import requests\n",
    "from bs4 import BeautifulSoup as bs\n",
    "import gspread\n",
    "from datetime import datetime\n",
    "from nltk.sentiment import SentimentIntensityAnalyzer\n",
    "import pandas as pd\n",
    "import numpy as np\n",
    "import json\n",
    "import nltk\n",
    "nltk.download('vader_lexicon')\n",
    "analyzer = SentimentIntensityAnalyzer()\n"
   ]
  },
  {
   "cell_type": "code",
   "execution_count": null,
   "id": "9ccbac65",
   "metadata": {
    "tags": [
     "parameters"
    ]
   },
   "outputs": [],
   "source": [
    "# To make it easier to update and share this notebook we will be entering sensitive keys are runtime using nbfire.  T\n",
    "# This cell is a placeholder for these values.  This is why the cell has a 'parameters' tag added.  For more\n",
    "#information please read https://papermill.readthedocs.io/en/latest/usage-parameterize.html\n",
    "credentials = \"\"\n"
   ]
  },
  {
   "cell_type": "code",
   "execution_count": null,
   "id": "f7fcf06c",
   "metadata": {},
   "outputs": [],
   "source": [
    "#We need to handle both Google API credentials added as a string entered as a parameter on NBFire and as a dict\n",
    "# entered directly in the cell above\n",
    "if isinstance(credentials, dict):\n",
    "    sa = gspread.service_account_from_dict(credentials)\n",
    "elif isinstance(credentials, str):\n",
    "    creds = json.loads(credentials)\n",
    "    sa = gspread.service_account_from_dict(creds)"
   ]
  },
  {
   "cell_type": "code",
   "execution_count": null,
   "id": "c5608d42",
   "metadata": {},
   "outputs": [],
   "source": [
    "sheet = sa.open_by_key('1NhgBt6ipU_9A0vekRfOYspl1Z-GKRU12gY7R19Zjvag')\n",
    "daily_guardian_datasheet = sheet.worksheet(\"Daily_Guardian_Sentiments\")\n",
    "daily_telegraph_datasheet = sheet.worksheet(\"Daily_Telegraph_Sentiments\")\n",
    "mean_datasheet=sheet.worksheet(\"Daily_Mean_Sentiments\")"
   ]
  },
  {
   "cell_type": "code",
   "execution_count": null,
   "id": "de763240",
   "metadata": {},
   "outputs": [],
   "source": [
    "guardian_url = 'https://www.guardian.co.uk'\n",
    "telegraph_url = 'https://telegraph.co.uk'\n",
    "current_datetime = datetime.now()\n",
    "now = current_datetime.strftime(\"%Y-%m-%d\")"
   ]
  },
  {
   "cell_type": "code",
   "execution_count": null,
   "id": "a51528d0",
   "metadata": {},
   "outputs": [],
   "source": [
    "def get_guardian_titles(url):\n",
    "    article = requests.get(url)\n",
    "    soup = bs(article.text, 'html.parser')\n",
    "    headlines = soup.find('body').find_all('h3')\n",
    "    for x in headlines[:15]:\n",
    "        try:\n",
    "            if x.div.text != 'Live':\n",
    "                title= x.div.text\n",
    "                description= x.span.text\n",
    "                complete_text = title + \" - \" + description\n",
    "                scores=analyzer.polarity_scores(complete_text)\n",
    "                new_entry=[now,complete_text,scores[\"compound\"]]\n",
    "                print(new_entry)\n",
    "                daily_guardian_datasheet.append_row(new_entry)\n",
    "        except: print('error')"
   ]
  },
  {
   "cell_type": "code",
   "execution_count": null,
   "id": "1752ddf0",
   "metadata": {},
   "outputs": [],
   "source": [
    "def get_telegraph_titles(url):\n",
    "    article = requests.get(url)\n",
    "    soup = bs(article.text, 'html.parser')\n",
    "    headlines = soup.find_all(\"span\", {\"class\": \"\"})\n",
    "    for x in headlines[4:19]:\n",
    "        try:\n",
    "            complete_text = x.text\n",
    "            scores=analyzer.polarity_scores(complete_text)\n",
    "            new_entry=[now,complete_text,scores[\"compound\"]]\n",
    "            print(new_entry)\n",
    "            daily_telegraph_datasheet.append_row(new_entry)   \n",
    "        except: print('error')     "
   ]
  },
  {
   "cell_type": "code",
   "execution_count": null,
   "id": "8dbe12d8",
   "metadata": {},
   "outputs": [],
   "source": [
    "get_guardian_titles(guardian_url)\n"
   ]
  },
  {
   "cell_type": "code",
   "execution_count": null,
   "id": "10315448",
   "metadata": {},
   "outputs": [],
   "source": [
    "get_telegraph_titles(telegraph_url)"
   ]
  },
  {
   "cell_type": "code",
   "execution_count": null,
   "id": "a4bbe576",
   "metadata": {},
   "outputs": [],
   "source": [
    "guardian_values = daily_guardian_datasheet.col_values(3)\n",
    "guardian_sentiments=guardian_values[-15:]"
   ]
  },
  {
   "cell_type": "code",
   "execution_count": null,
   "id": "b8b44112",
   "metadata": {},
   "outputs": [],
   "source": [
    "telegraph_values = daily_telegraph_datasheet.col_values(3)\n",
    "telegraph_sentiments=telegraph_values[-15:]"
   ]
  },
  {
   "cell_type": "code",
   "execution_count": null,
   "id": "ec8b2874",
   "metadata": {},
   "outputs": [],
   "source": [
    "x = np.array(guardian_sentiments)\n",
    "y = x.astype(float)\n",
    "mean = np.mean(y)\n",
    "\n",
    "new_mean_entry=[now, mean]\n",
    "mean_datasheet.append_row(new_mean_entry)\n"
   ]
  },
  {
   "cell_type": "code",
   "execution_count": null,
   "id": "1dd0013d",
   "metadata": {},
   "outputs": [],
   "source": [
    "x = np.array(telegraph_sentiments)\n",
    "y = x.astype(float)\n",
    "mean = np.mean(y)\n",
    "\n",
    "last_row = len(mean_datasheet.get_all_values())\n",
    "mean_datasheet.update_cell(last_row, 3, mean)\n"
   ]
  },
  {
   "cell_type": "code",
   "execution_count": null,
   "id": "cbe50447",
   "metadata": {},
   "outputs": [],
   "source": [
    "\n",
    "df = pd.DataFrame(mean_datasheet.get_all_records())"
   ]
  },
  {
   "cell_type": "code",
   "execution_count": null,
   "id": "f74a4a1d",
   "metadata": {},
   "outputs": [],
   "source": [
    "ax = df.plot(x=\"Date\", y=\"Mean_Guardian_Sentiment\", figsize=(10, 10))\n",
    "df.plot('Date', 'Mean_Telegraph_Sentiment', secondary_y=True, ax=ax)\n"
   ]
  },
  {
   "cell_type": "code",
   "execution_count": null,
   "id": "4b4a2ce0",
   "metadata": {},
   "outputs": [],
   "source": [
    "df"
   ]
  }
 ],
 "metadata": {
  "celltoolbar": "Tags",
  "kernelspec": {
   "display_name": "Python 3 (ipykernel)",
   "language": "python",
   "name": "python3"
  },
  "language_info": {
   "codemirror_mode": {
    "name": "ipython",
    "version": 3
   },
   "file_extension": ".py",
   "mimetype": "text/x-python",
   "name": "python",
   "nbconvert_exporter": "python",
   "pygments_lexer": "ipython3",
   "version": "3.10.6"
  }
 },
 "nbformat": 4,
 "nbformat_minor": 5
}
