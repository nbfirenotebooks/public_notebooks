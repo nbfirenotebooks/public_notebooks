{
 "cells": [
  {
   "cell_type": "code",
   "execution_count": null,
   "id": "c76d4603",
   "metadata": {},
   "outputs": [],
   "source": [
    "!pip install gspread\n",
    "!pip install random\n",
    "!pip install datetime\n",
    "!pip install pandas\n",
    "!pip install json"
   ]
  },
  {
   "cell_type": "code",
   "execution_count": null,
   "id": "18c7f987",
   "metadata": {},
   "outputs": [],
   "source": [
    "import gspread\n",
    "import random\n",
    "from datetime import date\n",
    "import json"
   ]
  },
  {
   "cell_type": "markdown",
   "id": "009eab9c",
   "metadata": {},
   "source": [
    "To generate creds follow this guide https://ploomber.io/blog/gsheets/"
   ]
  },
  {
   "cell_type": "code",
   "execution_count": null,
   "id": "6b634960",
   "metadata": {
    "tags": [
     "parameters"
    ]
   },
   "outputs": [],
   "source": [
    "creds=\"\""
   ]
  },
  {
   "cell_type": "code",
   "execution_count": null,
   "id": "80d1185e",
   "metadata": {},
   "outputs": [],
   "source": [
    "credentials = json.loads(creds)"
   ]
  },
  {
   "cell_type": "code",
   "execution_count": null,
   "id": "e8edebd8",
   "metadata": {},
   "outputs": [],
   "source": [
    "sa = gspread.service_account_from_dict(credentials)"
   ]
  },
  {
   "cell_type": "code",
   "execution_count": null,
   "id": "ca2e459c",
   "metadata": {},
   "outputs": [],
   "source": [
    "sheet = sa.open(\"Test\")\n",
    "work_sheet = sheet.worksheet(\"Sheet1\")"
   ]
  },
  {
   "cell_type": "code",
   "execution_count": null,
   "id": "6f743cf2",
   "metadata": {},
   "outputs": [],
   "source": [
    "import pandas as pd\n",
    "\n",
    "df = pd.DataFrame(work_sheet.get_all_records())"
   ]
  },
  {
   "cell_type": "code",
   "execution_count": null,
   "id": "a6dd333c",
   "metadata": {},
   "outputs": [],
   "source": [
    "from datetime import datetime\n",
    "\n",
    "now = str(datetime.now())\n",
    "value=[now]"
   ]
  },
  {
   "cell_type": "code",
   "execution_count": null,
   "id": "2eb21c02",
   "metadata": {},
   "outputs": [],
   "source": [
    "work_sheet.append_row(value)"
   ]
  },
  {
   "cell_type": "code",
   "execution_count": null,
   "id": "0fa228dc",
   "metadata": {},
   "outputs": [],
   "source": [
    "import pandas as pd\n",
    "\n",
    "df = pd.DataFrame(work_sheet.get_all_records())\n",
    "df.head()"
   ]
  },
  {
   "cell_type": "code",
   "execution_count": null,
   "id": "501301c3",
   "metadata": {},
   "outputs": [],
   "source": []
  }
 ],
 "metadata": {
  "celltoolbar": "Tags",
  "kernelspec": {
   "display_name": "Python 3 (ipykernel)",
   "language": "python",
   "name": "python3"
  },
  "language_info": {
   "codemirror_mode": {
    "name": "ipython",
    "version": 3
   },
   "file_extension": ".py",
   "mimetype": "text/x-python",
   "name": "python",
   "nbconvert_exporter": "python",
   "pygments_lexer": "ipython3",
   "version": "3.10.6"
  }
 },
 "nbformat": 4,
 "nbformat_minor": 5
}
