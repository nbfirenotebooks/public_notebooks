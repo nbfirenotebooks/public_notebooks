{
 "cells": [
  {
   "cell_type": "markdown",
   "id": "56dee0de",
   "metadata": {},
   "source": [
    "NBFire weather app with email \n",
    "\n",
    "This use the Visualcrossing weather API to demonstrate how you can parameterizwe, schedule and email notebooks on NBFire. \n",
    "\n",
    "To run the notebook you will need an API key from https://www.visualcrossing.com/\n",
    "\n",
    "Please note that this notebook takes 5 parameters which we will inject at runtime via NBFire\n",
    "\n",
    "API_KEY (For the Visual crosssing API)\n",
    "LOCATION (Of the forecast)\n",
    "NAME (Of the person the forecast is for)\n",
    "EMAIL (Of the person the forecast is for)\n",
    "GMAIL_PASSWORD (of the gmail account used to send the email (see instructions on how to obtain this password below)\n",
    "\n",
    "\n",
    "The output is an email with a weather forecast table and an attached chart of the next 7 days temperature ranges for your chosen location\n"
   ]
  },
  {
   "cell_type": "code",
   "execution_count": 41,
   "id": "ccdd96c3",
   "metadata": {},
   "outputs": [
    {
     "name": "stdout",
     "output_type": "stream",
     "text": [
      "Requirement already satisfied: matplotlib in /opt/homebrew/lib/python3.10/site-packages (3.6.1)\n",
      "Requirement already satisfied: contourpy>=1.0.1 in /opt/homebrew/lib/python3.10/site-packages (from matplotlib) (1.0.5)\n",
      "Requirement already satisfied: cycler>=0.10 in /opt/homebrew/lib/python3.10/site-packages (from matplotlib) (0.11.0)\n",
      "Requirement already satisfied: fonttools>=4.22.0 in /opt/homebrew/lib/python3.10/site-packages (from matplotlib) (4.38.0)\n",
      "Requirement already satisfied: kiwisolver>=1.0.1 in /opt/homebrew/lib/python3.10/site-packages (from matplotlib) (1.4.4)\n",
      "Requirement already satisfied: numpy>=1.19 in /opt/homebrew/lib/python3.10/site-packages (from matplotlib) (1.23.2)\n",
      "Requirement already satisfied: packaging>=20.0 in /opt/homebrew/lib/python3.10/site-packages (from matplotlib) (21.3)\n",
      "Requirement already satisfied: pillow>=6.2.0 in /opt/homebrew/lib/python3.10/site-packages (from matplotlib) (9.2.0)\n",
      "Requirement already satisfied: pyparsing>=2.2.1 in /opt/homebrew/lib/python3.10/site-packages (from matplotlib) (3.0.9)\n",
      "Requirement already satisfied: python-dateutil>=2.7 in /opt/homebrew/lib/python3.10/site-packages (from matplotlib) (2.8.2)\n",
      "Requirement already satisfied: six>=1.5 in /opt/homebrew/lib/python3.10/site-packages (from python-dateutil>=2.7->matplotlib) (1.16.0)\n",
      "Requirement already satisfied: pandas in /opt/homebrew/lib/python3.10/site-packages (1.5.1)\n",
      "Requirement already satisfied: python-dateutil>=2.8.1 in /opt/homebrew/lib/python3.10/site-packages (from pandas) (2.8.2)\n",
      "Requirement already satisfied: pytz>=2020.1 in /opt/homebrew/lib/python3.10/site-packages (from pandas) (2022.5)\n",
      "Requirement already satisfied: numpy>=1.21.0 in /opt/homebrew/lib/python3.10/site-packages (from pandas) (1.23.2)\n",
      "Requirement already satisfied: six>=1.5 in /opt/homebrew/lib/python3.10/site-packages (from python-dateutil>=2.8.1->pandas) (1.16.0)\n",
      "Requirement already satisfied: numpy in /opt/homebrew/lib/python3.10/site-packages (1.23.2)\n",
      "Requirement already satisfied: pypdf in /opt/homebrew/lib/python3.10/site-packages (3.9.1)\n"
     ]
    }
   ],
   "source": [
    "# install our dependencies. NBFire will run our notebook in a container so we need to add these packages so we can\n",
    "# import them!\n",
    "!pip install matplotlib\n",
    "!pip install pandas\n",
    "!pip install numpy\n",
    "!pip install pypdf"
   ]
  },
  {
   "cell_type": "code",
   "execution_count": 42,
   "id": "8eb79185",
   "metadata": {},
   "outputs": [],
   "source": [
    "# import all the packages that we need\n",
    "import urllib.parse\n",
    "import urllib.request\n",
    "import json\n",
    "import time\n",
    "import matplotlib.pyplot as plt\n",
    "from matplotlib.backends.backend_pdf import PdfPages\n",
    "import pandas as pd\n",
    "import numpy as np\n",
    "from pypdf import PdfMerger"
   ]
  },
  {
   "cell_type": "markdown",
   "id": "4d3424fa",
   "metadata": {},
   "source": [
    "Parameters cell - values to be added in at run time via NBFire"
   ]
  },
  {
   "cell_type": "code",
   "execution_count": 43,
   "id": "48b3a0c6",
   "metadata": {
    "tags": [
     "parameters"
    ]
   },
   "outputs": [],
   "source": [
    "API_KEY=\"\"\n",
    "NAME=\"\"\n",
    "EMAIL=\"\"\n",
    "LOCATION=\"\"\n",
    "GMAIL_PASSWORD=\"\"\n",
    "SENDER_GMAIL=\"\"\n",
    "UNIT_GROUP=\"\""
   ]
  },
  {
   "cell_type": "code",
   "execution_count": 44,
   "id": "17639996",
   "metadata": {},
   "outputs": [],
   "source": [
    "# get the data from Visual Crossing\n",
    "def getWeatherForecast():\n",
    "         requestUrl = \"https://weather.visualcrossing.com/VisualCrossingWebServices/rest/services/timeline/\" + urllib.parse.quote_plus(LOCATION)\n",
    "         requestUrl = requestUrl+\"?key=\"+API_KEY+\"&unitGroup=\"+UNIT_GROUP+\"&include=days\";\n",
    "         \n",
    "         print('Weather requestUrl={requestUrl}'.format(requestUrl=requestUrl))\n",
    "\n",
    "         try:\n",
    "                 req = urllib.request.urlopen(requestUrl)\n",
    "         except:\n",
    "                 print(\"Could not read from:\"+requestUrl);\n",
    "                 return []\n",
    "                \n",
    "         rawForecastData = req.read()\n",
    "         req.close()\n",
    "         return json.loads(rawForecastData)\n"
   ]
  },
  {
   "cell_type": "code",
   "execution_count": 45,
   "id": "a223cfd9",
   "metadata": {},
   "outputs": [
    {
     "name": "stdout",
     "output_type": "stream",
     "text": [
      "Weather requestUrl=https://weather.visualcrossing.com/VisualCrossingWebServices/rest/services/timeline/Glasgow?key=EWW5E6M32F6CFP3NPTGFE6MQB&unitGroup=uk&include=days\n"
     ]
    }
   ],
   "source": [
    "weatherForecast = getWeatherForecast()\n",
    "days=weatherForecast['days'];\n"
   ]
  },
  {
   "cell_type": "code",
   "execution_count": 46,
   "id": "474ab9c9",
   "metadata": {},
   "outputs": [],
   "source": [
    "\n",
    "# create our dataframe and our html table\n",
    "df = pd.DataFrame(days)\n",
    "html_table=df[['datetime','description','tempmax', 'tempmin']].to_html()"
   ]
  },
  {
   "cell_type": "code",
   "execution_count": 47,
   "id": "64a8467a",
   "metadata": {},
   "outputs": [
    {
     "data": {
      "image/png": "[encoded data removed]",
      "text/plain": [
       "<Figure size 432x288 with 1 Axes>"
      ]
     },
     "metadata": {
      "needs_background": "light"
     },
     "output_type": "display_data"
    }
   ],
   "source": [
    "# plot our temp graphic and create our pdf\n",
    "df.plot.bar(x='datetime', y=['tempmin', 'tempmax',], color={ \"tempmin\": \"blue\", \"tempmax\": \"red\"})\n",
    "plt.savefig('graph.pdf')"
   ]
  },
  {
   "cell_type": "code",
   "execution_count": 48,
   "id": "3a8f679e",
   "metadata": {},
   "outputs": [
    {
     "name": "stdout",
     "output_type": "stream",
     "text": [
      "Mail Sent\n"
     ]
    }
   ],
   "source": [
    "\n",
    "# import the packages we need for email\n",
    "import smtplib\n",
    "from email.mime.multipart import MIMEMultipart\n",
    "from email.mime.text import MIMEText\n",
    "from email.mime.base import MIMEBase\n",
    "from email import encoders\n",
    "\n",
    "# create the body of our text here, add the name of our recipients, the location and our weather forecast table\n",
    "# note - this is HTML not plain text\n",
    "body = '''Hi ''' + NAME + ''',\n",
    "<br>\n",
    "<br>Here is your daily weather forecast for ''' + LOCATION + '''<br><br>''' + html_table + ''' \n",
    "<br>Best wishes\n",
    "<br>\n",
    "<br>Fred Fish\n",
    "'''\n",
    "# Add the gmail address you are using to send the emails\n",
    "sender = SENDER_GMAIL\n",
    "# To set up the App password for a gmail account follow the instructions here https://support.google.com/mail/answer/185833?hl=en-GB\n",
    "# then add it as a run time parameter on NBFire\n",
    "password = GMAIL_PASSWORD\n",
    "# put the email of the receiver here, I have added a copy to myself\n",
    "rec_list =  [EMAIL, SENDER_GMAIL]\n",
    "rec =  ', '.join(rec_list)\n",
    "#Setup the MIME\n",
    "message = MIMEMultipart()\n",
    "message['From'] = sender\n",
    "message['To'] = rec\n",
    "message['Subject'] = 'Weather Report'\n",
    " \n",
    "message.attach(MIMEText(body, 'html'))\n",
    " \n",
    "#set the pdf we want to attach\n",
    "pdfname = 'graph.pdf'\n",
    "\n",
    " \n",
    "# open the file in bynary\n",
    "binary_pdf = open(pdfname, 'rb')\n",
    " \n",
    "payload = MIMEBase('application', 'octate-stream', Name=pdfname)\n",
    "# payload = MIMEBase('application', 'pdf', Name=pdfname)\n",
    "payload.set_payload((binary_pdf).read())\n",
    " \n",
    "# enconding the binary into base64\n",
    "encoders.encode_base64(payload)\n",
    "\n",
    "# add header with pdf name\n",
    "payload.add_header('Content-Decomposition', 'attachment', filename=pdfname)\n",
    "message.attach(payload)\n",
    " \n",
    "#use gmail with port\n",
    "session = smtplib.SMTP('smtp.gmail.com', 587)\n",
    " \n",
    "#enable security\n",
    "session.starttls()\n",
    " \n",
    "#login with mail_id and password\n",
    "session.login(sender, password)\n",
    " \n",
    "text = message.as_string()\n",
    "session.sendmail(sender, rec_list, text)\n",
    "session.quit()\n",
    "print('Mail Sent')"
   ]
  }
 ],
 "metadata": {
  "celltoolbar": "Tags",
  "kernelspec": {
   "display_name": "Python 3 (ipykernel)",
   "language": "python",
   "name": "python3"
  },
  "language_info": {
   "codemirror_mode": {
    "name": "ipython",
    "version": 3
   },
   "file_extension": ".py",
   "mimetype": "text/x-python",
   "name": "python",
   "nbconvert_exporter": "python",
   "pygments_lexer": "ipython3",
   "version": "3.10.6"
  }
 },
 "nbformat": 4,
 "nbformat_minor": 5
}
