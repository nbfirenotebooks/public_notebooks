{
 "cells": [
  {
   "cell_type": "markdown",
   "id": "cf595a82",
   "metadata": {},
   "source": [
    "###  Multiple financial services API calls with data saved to Google Sheets.  \n",
    "This notebooks calls the Polygon API and gets basic stock information, one call for each stock you own.  It then saves this data to a Google Sheet.  Upload the notebook to https://www.nbfire.io/ and run it every night on a schedule to automate data collection.\n",
    "\n",
    "You will need a basic subscription at https://polygon.io with an API key.  Enter the key as a parameter at runtime\n",
    "To set up google sheets please follow https://ploomber.io/blog/gsheets/.  Again, enter the Google Cloud credentials at runtime.  \n",
    "\n",
    "To get going you will need a google sheet linked to your google cloud account.  You can find instructions here https://www.nbfire.io/resources/googlesheets.  In your Google Sheet you will also need to create a worksheet called \"Investments\" with with a column headed 'Abbr'.  Add the NYSE abbreviation for the stock you wish to track into this column.  So for Apple it is APPL.  You can find a full list here https://eoddata.com/symbols.aspx\n",
    "\n",
    "You can find a full explaination and how to guide here"
   ]
  },
  {
   "cell_type": "code",
   "execution_count": 32,
   "id": "806631a8",
   "metadata": {
    "scrolled": true
   },
   "outputs": [
    {
     "name": "stdout",
     "output_type": "stream",
     "text": [
      "Requirement already satisfied: requests in /opt/homebrew/lib/python3.10/site-packages (2.31.0)\n",
      "Requirement already satisfied: charset-normalizer<4,>=2 in /opt/homebrew/lib/python3.10/site-packages (from requests) (3.1.0)\n",
      "Requirement already satisfied: idna<4,>=2.5 in /opt/homebrew/lib/python3.10/site-packages (from requests) (3.4)\n",
      "Requirement already satisfied: urllib3<3,>=1.21.1 in /opt/homebrew/lib/python3.10/site-packages (from requests) (1.26.16)\n",
      "Requirement already satisfied: certifi>=2017.4.17 in /opt/homebrew/lib/python3.10/site-packages (from requests) (2023.5.7)\n",
      "Requirement already satisfied: gspread in /opt/homebrew/lib/python3.10/site-packages (6.0.2)\n",
      "Requirement already satisfied: google-auth>=1.12.0 in /opt/homebrew/lib/python3.10/site-packages (from gspread) (2.19.0)\n",
      "Requirement already satisfied: google-auth-oauthlib>=0.4.1 in /opt/homebrew/lib/python3.10/site-packages (from gspread) (1.0.0)\n",
      "Requirement already satisfied: StrEnum==0.4.15 in /opt/homebrew/lib/python3.10/site-packages (from gspread) (0.4.15)\n",
      "Requirement already satisfied: cachetools<6.0,>=2.0.0 in /opt/homebrew/lib/python3.10/site-packages (from google-auth>=1.12.0->gspread) (5.3.1)\n",
      "Requirement already satisfied: pyasn1-modules>=0.2.1 in /opt/homebrew/lib/python3.10/site-packages (from google-auth>=1.12.0->gspread) (0.3.0)\n",
      "Requirement already satisfied: rsa<5,>=3.1.4 in /opt/homebrew/lib/python3.10/site-packages (from google-auth>=1.12.0->gspread) (4.9)\n",
      "Requirement already satisfied: six>=1.9.0 in /opt/homebrew/lib/python3.10/site-packages (from google-auth>=1.12.0->gspread) (1.16.0)\n",
      "Requirement already satisfied: urllib3<2.0 in /opt/homebrew/lib/python3.10/site-packages (from google-auth>=1.12.0->gspread) (1.26.16)\n",
      "Requirement already satisfied: requests-oauthlib>=0.7.0 in /opt/homebrew/lib/python3.10/site-packages (from google-auth-oauthlib>=0.4.1->gspread) (1.3.1)\n",
      "Requirement already satisfied: pyasn1<0.6.0,>=0.4.6 in /opt/homebrew/lib/python3.10/site-packages (from pyasn1-modules>=0.2.1->google-auth>=1.12.0->gspread) (0.5.0)\n",
      "Requirement already satisfied: oauthlib>=3.0.0 in /opt/homebrew/lib/python3.10/site-packages (from requests-oauthlib>=0.7.0->google-auth-oauthlib>=0.4.1->gspread) (3.2.2)\n",
      "Requirement already satisfied: requests>=2.0.0 in /opt/homebrew/lib/python3.10/site-packages (from requests-oauthlib>=0.7.0->google-auth-oauthlib>=0.4.1->gspread) (2.31.0)\n",
      "Requirement already satisfied: charset-normalizer<4,>=2 in /opt/homebrew/lib/python3.10/site-packages (from requests>=2.0.0->requests-oauthlib>=0.7.0->google-auth-oauthlib>=0.4.1->gspread) (3.1.0)\n",
      "Requirement already satisfied: idna<4,>=2.5 in /opt/homebrew/lib/python3.10/site-packages (from requests>=2.0.0->requests-oauthlib>=0.7.0->google-auth-oauthlib>=0.4.1->gspread) (3.4)\n",
      "Requirement already satisfied: certifi>=2017.4.17 in /opt/homebrew/lib/python3.10/site-packages (from requests>=2.0.0->requests-oauthlib>=0.7.0->google-auth-oauthlib>=0.4.1->gspread) (2023.5.7)\n",
      "Requirement already satisfied: pandas in /opt/homebrew/lib/python3.10/site-packages (1.5.1)\n",
      "Requirement already satisfied: python-dateutil>=2.8.1 in /opt/homebrew/lib/python3.10/site-packages (from pandas) (2.8.2)\n",
      "Requirement already satisfied: pytz>=2020.1 in /opt/homebrew/lib/python3.10/site-packages (from pandas) (2022.5)\n",
      "Requirement already satisfied: numpy>=1.21.0 in /opt/homebrew/lib/python3.10/site-packages (from pandas) (1.23.2)\n",
      "Requirement already satisfied: six>=1.5 in /opt/homebrew/lib/python3.10/site-packages (from python-dateutil>=2.8.1->pandas) (1.16.0)\n",
      "Requirement already satisfied: datetime in /opt/homebrew/lib/python3.10/site-packages (5.4)\n",
      "Requirement already satisfied: zope.interface in /opt/homebrew/lib/python3.10/site-packages (from datetime) (6.2)\n",
      "Requirement already satisfied: pytz in /opt/homebrew/lib/python3.10/site-packages (from datetime) (2022.5)\n",
      "Requirement already satisfied: setuptools in /opt/homebrew/lib/python3.10/site-packages (from zope.interface->datetime) (63.4.3)\n"
     ]
    }
   ],
   "source": [
    "# To be on the safe side we have included pip installation of the packages needed to run this notebook because https://www.nbfire.io/ is a \n",
    "# containerised environment at might not be able to install them\n",
    "!pip install requests\n",
    "!pip install gspread\n",
    "!pip install pandas\n",
    "!pip install datetime"
   ]
  },
  {
   "cell_type": "code",
   "execution_count": 33,
   "id": "847178a9",
   "metadata": {},
   "outputs": [],
   "source": [
    "import requests\n",
    "import json\n",
    "import gspread\n",
    "import pandas\n",
    "from datetime import datetime\n",
    "import pandas as pd\n",
    "import time"
   ]
  },
  {
   "cell_type": "code",
   "execution_count": 34,
   "id": "4871838d",
   "metadata": {
    "tags": [
     "parameters"
    ]
   },
   "outputs": [],
   "source": [
    "# To make it easier to update and share this notebook we will be entering sensitive keys are runtime using nbfire.  T\n",
    "# This cell is a placeholder for these values.  This is why the cell has a 'parameters' tag added.  For more\n",
    "#information please read https://papermill.readthedocs.io/en/latest/usage-parameterize.html\n",
    "credentials = \"\"\n",
    "API_Key = \"\""
   ]
  },
  {
   "cell_type": "code",
   "execution_count": 35,
   "id": "d7e02d9e",
   "metadata": {},
   "outputs": [],
   "source": [
    "# If you are working locally comment out this cell and insert your credentials and API key in the cell above.  Once\n",
    "# you want to move the notebook to NBFire uncomment this cell and replace \"credentials\" with \"creds\" in the cell \n",
    "# below\n",
    "\n",
    "creds = json.loads(credentials)"
   ]
  },
  {
   "cell_type": "code",
   "execution_count": 36,
   "id": "c7448cc4",
   "metadata": {},
   "outputs": [],
   "source": [
    "#let's connect to google sheets using our credentials (or creds, see above!)\n",
    "sa = gspread.service_account_from_dict(creds)"
   ]
  },
  {
   "cell_type": "code",
   "execution_count": 37,
   "id": "edf40ac2",
   "metadata": {},
   "outputs": [],
   "source": [
    "#Get the current date and time in an easy to read format which we can add to the data we \n",
    "#are fetching and storing in our worksheets\n",
    "current_datetime = datetime.now()\n",
    "now = current_datetime.strftime(\"%m/%d/%Y, %H:%M:%S\")\n",
    "\n"
   ]
  },
  {
   "cell_type": "code",
   "execution_count": 39,
   "id": "c6d88a19",
   "metadata": {},
   "outputs": [],
   "source": [
    "#This function gets a list of the worksheet titles from our Google Sheet.  Each worksheet corresponds to \n",
    "# a stock we hold\n",
    "def get_worksheets():\n",
    "    worksheet_objs = sheet.worksheets()\n",
    "    worksheets_list = []\n",
    "    for worksheet in worksheet_objs:\n",
    "        worksheets_list.append(worksheet.title)\n",
    "    return(worksheets_list)\n",
    "\n"
   ]
  },
  {
   "cell_type": "code",
   "execution_count": 40,
   "id": "b39009f9",
   "metadata": {},
   "outputs": [],
   "source": [
    "#This function checks if you have a corresponding worksheet for the stocks you have listed in the investments\n",
    "#worksheet and and if not creates it\n",
    "def add_stock(my_stocks):\n",
    "    for s in my_stocks:\n",
    "        if s not in all_investments:\n",
    "            add_worksheet(s)"
   ]
  },
  {
   "cell_type": "code",
   "execution_count": 41,
   "id": "fefff56b",
   "metadata": {},
   "outputs": [],
   "source": [
    "#This function adds a new worksheet with the stock abbreviation as its name\n",
    "def add_worksheet(s):\n",
    "  sheet.add_worksheet(title=s, rows=\"100\", cols=\"20\")\n",
    "  create_worksheet_headings(s) \n"
   ]
  },
  {
   "cell_type": "code",
   "execution_count": 42,
   "id": "98212186",
   "metadata": {},
   "outputs": [],
   "source": [
    "#This function creates all the column headings we need in a new worksheet\n",
    "def create_worksheet_headings(s):\n",
    "  worksheet = sheet.worksheet(s)\n",
    "  worksheet.update_cell(1, 1, 'Timestamp')\n",
    "  worksheet.update_cell(1, 2, 'Opening')\n",
    "  worksheet.update_cell(1, 3, 'Closing')\n",
    "  worksheet.update_cell(1, 4, 'Volume')\n",
    "  worksheet.update_cell(1, 5, 'Value')"
   ]
  },
  {
   "cell_type": "code",
   "execution_count": 43,
   "id": "b4d66ab4",
   "metadata": {},
   "outputs": [],
   "source": [
    "#This function takes a stock and returns the corresponding number of shares with have in our 'investments' worksheet\n",
    "def get_shares(s):\n",
    "    print(s)\n",
    "    my_stock = investments.find(s)\n",
    "    my_shares = investments.cell(my_stock.row, my_stock.col + 1).value\n",
    "    return(my_shares)\n"
   ]
  },
  {
   "cell_type": "code",
   "execution_count": 44,
   "id": "ca793cc9",
   "metadata": {},
   "outputs": [],
   "source": [
    "#This function takes a list of your stocks, makes a call to the Polygon API for each and  gets the opening \n",
    "#and closing prices from the previous day plus the volume of trades.  I have added a sleep because we are using the\n",
    "#FREE, rate limited, Polygon account. If you want to use this for real you might want to consider using a paid \n",
    "#version.  If you hit the limit you will get a 'key error'\n",
    "\n",
    "def get_stocks(stocks):\n",
    "  for stock in stocks:\n",
    "    url = \"https://api.polygon.io/v2/aggs/ticker/\" + stock + \"/prev?adjusted=true&apiKey=\" + API_Key\n",
    "    x = requests.get(url) \n",
    "    data = x.json()\n",
    "    results = data['results'][0]   \n",
    "    opening = results['o']\n",
    "    closing = results['c']\n",
    "    volume = results['v']\n",
    "    shares = get_shares(stock)\n",
    "    value = (float(shares) * closing)\n",
    "    new_entry =[now, opening, closing, volume, value]\n",
    "    print(new_entry)\n",
    "    update_worksheet(stock, new_entry)\n",
    "    time.sleep(10)\n",
    "    "
   ]
  },
  {
   "cell_type": "code",
   "execution_count": 45,
   "id": "0760480c",
   "metadata": {},
   "outputs": [],
   "source": [
    "# This helper function updates a worksheet with new data\n",
    "def update_worksheet(s, data):\n",
    "    worksheet = sheet.worksheet(s)\n",
    "    worksheet.append_row(data)"
   ]
  },
  {
   "cell_type": "code",
   "execution_count": 46,
   "id": "935f15c8",
   "metadata": {},
   "outputs": [],
   "source": [
    "#Let's open our Google Sheet and get our list of investments.  I am using the Google sheet's key from sheet's url\n",
    "sheet = sa.open_by_key('1P1b5MjvJ3fvbdqLd8lXQhtRRRZK8G55UJvbX9sPKsUU')\n",
    "investments = sheet.worksheet(\"Investments\")\n"
   ]
  },
  {
   "cell_type": "code",
   "execution_count": 38,
   "id": "6ded0a25",
   "metadata": {},
   "outputs": [],
   "source": [
    "#We can use Pandas to get a list of the stocks we hold from our investment worksheet and then\n",
    "#get a list of all our worksheets.\n",
    "\n",
    "df = pd.DataFrame(investments.get_all_records())\n",
    "my_stocks = (df['Abbr'].to_list())\n",
    "all_investments = get_worksheets()"
   ]
  },
  {
   "cell_type": "code",
   "execution_count": 47,
   "id": "60f65c68",
   "metadata": {},
   "outputs": [
    {
     "name": "stdout",
     "output_type": "stream",
     "text": [
      "AB\n",
      "['03/19/2024, 15:25:22', 33.37, 33.48, 183248, 3347.9999999999995]\n",
      "NAT\n",
      "['03/19/2024, 15:25:22', 4.06, 4.03, 4351568.0, 403.0]\n",
      "NKE\n",
      "['03/19/2024, 15:25:22', 98.98, 98.74, 7206466.0, 6911.799999999999]\n",
      "XOM\n",
      "['03/19/2024, 15:25:22', 111.79, 112.3, 16770146.0, 8984.0]\n",
      "BBW\n",
      "['03/19/2024, 15:25:22', 29.84, 28.93, 346987, 2603.7]\n",
      "AAPL\n",
      "['03/19/2024, 15:25:22', 175.57, 173.72, 75606556.0, 7817.4]\n",
      "AAT\n",
      "['03/19/2024, 15:25:22', 21.17, 21.11, 338221, 211.1]\n",
      "AC\n",
      "['03/19/2024, 15:25:22', 33.35, 33.33, 3852, 66660.0]\n",
      "ACI\n",
      "['03/19/2024, 15:25:22', 20.73, 20.82, 1867398.0, 10410.0]\n"
     ]
    }
   ],
   "source": [
    "#Let's run everything.  We use \"add_stock\" to check whether any new rows have been added to our \n",
    "#Investments (and create a corresponding worksheet if neccessary).  We then run \"get_stocks\" to get the latest \n",
    "#values from Polygon, calculate the value of our investments and update all the worksheets\n",
    "add_stock(my_stocks)\n",
    "get_stocks(my_stocks)\n",
    "\n"
   ]
  },
  {
   "cell_type": "code",
   "execution_count": null,
   "id": "b188806e",
   "metadata": {},
   "outputs": [],
   "source": []
  }
 ],
 "metadata": {
  "kernelspec": {
   "display_name": "Python 3 (ipykernel)",
   "language": "python",
   "name": "python3"
  },
  "language_info": {
   "codemirror_mode": {
    "name": "ipython",
    "version": 3
   },
   "file_extension": ".py",
   "mimetype": "text/x-python",
   "name": "python",
   "nbconvert_exporter": "python",
   "pygments_lexer": "ipython3",
   "version": "3.10.6"
  }
 },
 "nbformat": 4,
 "nbformat_minor": 5
}
